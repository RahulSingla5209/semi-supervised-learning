{
 "cells": [
  {
   "cell_type": "code",
   "execution_count": 1,
   "id": "89987c03",
   "metadata": {},
   "outputs": [],
   "source": [
    "import pickle\n",
    "from scipy.spatial.distance import cosine"
   ]
  },
  {
   "cell_type": "code",
   "execution_count": 2,
   "id": "c4c59d8f",
   "metadata": {},
   "outputs": [],
   "source": [
    "with open(\"untrained_embeddings_bank.dictionary\", 'rb') as config_dictionary_file:\n",
    "    untrained_embeddings = pickle.load(config_dictionary_file)"
   ]
  },
  {
   "cell_type": "code",
   "execution_count": 3,
   "id": "3bf6f793",
   "metadata": {},
   "outputs": [],
   "source": [
    "with open(\"unsupervised_trained_embeddings_bank.dictionary\", 'rb') as config_dictionary_file:\n",
    "    unsupervised_trained_embeddings = pickle.load(config_dictionary_file)"
   ]
  },
  {
   "cell_type": "code",
   "execution_count": 4,
   "id": "d62e41b9",
   "metadata": {},
   "outputs": [],
   "source": [
    "with open(\"supervised_trained_embeddings_bank.dictionary\", 'rb') as config_dictionary_file:\n",
    "    supervised_trained_embeddings = pickle.load(config_dictionary_file)"
   ]
  },
  {
   "cell_type": "code",
   "execution_count": 5,
   "id": "742f96a1",
   "metadata": {},
   "outputs": [],
   "source": [
    "with open(\"semi_supervised_trained_embeddings_bank.dictionary\", 'rb') as config_dictionary_file:\n",
    "    semi_supervised_trained_embeddings = pickle.load(config_dictionary_file)"
   ]
  },
  {
   "cell_type": "code",
   "execution_count": 6,
   "id": "2f800713",
   "metadata": {},
   "outputs": [],
   "source": [
    "def embedding_similarity(emb1, emb2):\n",
    "    categories_count = 0\n",
    "    simialrity = 0\n",
    "    for col in emb1:\n",
    "        for categories in emb1[col]:\n",
    "            simialrity += 1-cosine(emb1[col][categories], \n",
    "                        emb2[col][categories])\n",
    "            categories_count += 1\n",
    "    return (simialrity/categories_count)"
   ]
  },
  {
   "cell_type": "code",
   "execution_count": 7,
   "id": "ead4e649",
   "metadata": {},
   "outputs": [
    {
     "data": {
      "text/plain": [
       "0.7003981347754598"
      ]
     },
     "execution_count": 7,
     "metadata": {},
     "output_type": "execute_result"
    }
   ],
   "source": [
    "embedding_similarity(untrained_embeddings, supervised_trained_embeddings)"
   ]
  },
  {
   "cell_type": "code",
   "execution_count": 8,
   "id": "377604d6",
   "metadata": {
    "scrolled": true
   },
   "outputs": [
    {
     "data": {
      "text/plain": [
       "0.358013275306051"
      ]
     },
     "execution_count": 8,
     "metadata": {},
     "output_type": "execute_result"
    }
   ],
   "source": [
    "embedding_similarity(untrained_embeddings, unsupervised_trained_embeddings)"
   ]
  },
  {
   "cell_type": "code",
   "execution_count": 9,
   "id": "5ebb6f4a",
   "metadata": {},
   "outputs": [
    {
     "data": {
      "text/plain": [
       "0.3074250307492912"
      ]
     },
     "execution_count": 9,
     "metadata": {},
     "output_type": "execute_result"
    }
   ],
   "source": [
    "embedding_similarity(untrained_embeddings, semi_supervised_trained_embeddings)"
   ]
  },
  {
   "cell_type": "code",
   "execution_count": 10,
   "id": "cffe6eec",
   "metadata": {},
   "outputs": [
    {
     "data": {
      "text/plain": [
       "0.26304449093838533"
      ]
     },
     "execution_count": 10,
     "metadata": {},
     "output_type": "execute_result"
    }
   ],
   "source": [
    "embedding_similarity(unsupervised_trained_embeddings, supervised_trained_embeddings)"
   ]
  },
  {
   "cell_type": "code",
   "execution_count": 11,
   "id": "29c6fdf4",
   "metadata": {},
   "outputs": [
    {
     "data": {
      "text/plain": [
       "0.8148987114429473"
      ]
     },
     "execution_count": 11,
     "metadata": {},
     "output_type": "execute_result"
    }
   ],
   "source": [
    "embedding_similarity(unsupervised_trained_embeddings, semi_supervised_trained_embeddings)"
   ]
  },
  {
   "cell_type": "code",
   "execution_count": 12,
   "id": "1ce55946",
   "metadata": {},
   "outputs": [
    {
     "data": {
      "text/plain": [
       "0.24451380239178738"
      ]
     },
     "execution_count": 12,
     "metadata": {},
     "output_type": "execute_result"
    }
   ],
   "source": [
    "embedding_similarity(supervised_trained_embeddings, semi_supervised_trained_embeddings)"
   ]
  },
  {
   "cell_type": "code",
   "execution_count": null,
   "id": "ffd5abdd",
   "metadata": {},
   "outputs": [],
   "source": []
  }
 ],
 "metadata": {
  "kernelspec": {
   "display_name": "Python 3 (ipykernel)",
   "language": "python",
   "name": "python3"
  },
  "language_info": {
   "codemirror_mode": {
    "name": "ipython",
    "version": 3
   },
   "file_extension": ".py",
   "mimetype": "text/x-python",
   "name": "python",
   "nbconvert_exporter": "python",
   "pygments_lexer": "ipython3",
   "version": "3.8.0"
  }
 },
 "nbformat": 4,
 "nbformat_minor": 5
}
