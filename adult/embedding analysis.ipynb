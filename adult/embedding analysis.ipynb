{
 "cells": [
  {
   "cell_type": "code",
   "execution_count": 24,
   "id": "89987c03",
   "metadata": {},
   "outputs": [],
   "source": [
    "import pickle\n",
    "from scipy.spatial.distance import cosine"
   ]
  },
  {
   "cell_type": "code",
   "execution_count": 25,
   "id": "c4c59d8f",
   "metadata": {},
   "outputs": [],
   "source": [
    "with open(\"untrained_embeddings.dictionary\", 'rb') as config_dictionary_file:\n",
    "    untrained_embeddings = pickle.load(config_dictionary_file)"
   ]
  },
  {
   "cell_type": "code",
   "execution_count": 26,
   "id": "3bf6f793",
   "metadata": {},
   "outputs": [],
   "source": [
    "with open(\"unsupervised_trained_embeddings.dictionary\", 'rb') as config_dictionary_file:\n",
    "    unsupervised_trained_embeddings = pickle.load(config_dictionary_file)"
   ]
  },
  {
   "cell_type": "code",
   "execution_count": 27,
   "id": "d62e41b9",
   "metadata": {},
   "outputs": [],
   "source": [
    "with open(\"supervised_trained_embeddings.dictionary\", 'rb') as config_dictionary_file:\n",
    "    supervised_trained_embeddings = pickle.load(config_dictionary_file)"
   ]
  },
  {
   "cell_type": "code",
   "execution_count": 28,
   "id": "742f96a1",
   "metadata": {},
   "outputs": [],
   "source": [
    "with open(\"semi_supervised_trained_embeddings.dictionary\", 'rb') as config_dictionary_file:\n",
    "    semi_supervised_trained_embeddings = pickle.load(config_dictionary_file)"
   ]
  },
  {
   "cell_type": "code",
   "execution_count": 29,
   "id": "2f800713",
   "metadata": {},
   "outputs": [],
   "source": [
    "def embedding_similarity(emb1, emb2):\n",
    "    categories_count = 0\n",
    "    simialrity = 0\n",
    "    for col in emb1:\n",
    "        for categories in emb1[col]:\n",
    "            simialrity += 1-cosine(emb1[col][categories], \n",
    "                        emb2[col][categories])\n",
    "            categories_count += 1\n",
    "    return (simialrity/categories_count)"
   ]
  },
  {
   "cell_type": "code",
   "execution_count": 30,
   "id": "ead4e649",
   "metadata": {},
   "outputs": [
    {
     "data": {
      "text/plain": [
       "0.590148972858693"
      ]
     },
     "execution_count": 30,
     "metadata": {},
     "output_type": "execute_result"
    }
   ],
   "source": [
    "embedding_similarity(untrained_embeddings, supervised_trained_embeddings)"
   ]
  },
  {
   "cell_type": "code",
   "execution_count": 31,
   "id": "377604d6",
   "metadata": {
    "scrolled": true
   },
   "outputs": [
    {
     "data": {
      "text/plain": [
       "0.4572931201854611"
      ]
     },
     "execution_count": 31,
     "metadata": {},
     "output_type": "execute_result"
    }
   ],
   "source": [
    "embedding_similarity(untrained_embeddings, unsupervised_trained_embeddings)"
   ]
  },
  {
   "cell_type": "code",
   "execution_count": 33,
   "id": "5ebb6f4a",
   "metadata": {},
   "outputs": [
    {
     "data": {
      "text/plain": [
       "0.3293854226369648"
      ]
     },
     "execution_count": 33,
     "metadata": {},
     "output_type": "execute_result"
    }
   ],
   "source": [
    "embedding_similarity(untrained_embeddings, semi_supervised_trained_embeddings)"
   ]
  },
  {
   "cell_type": "code",
   "execution_count": 32,
   "id": "cffe6eec",
   "metadata": {},
   "outputs": [
    {
     "data": {
      "text/plain": [
       "0.30002829125698877"
      ]
     },
     "execution_count": 32,
     "metadata": {},
     "output_type": "execute_result"
    }
   ],
   "source": [
    "embedding_similarity(unsupervised_trained_embeddings, supervised_trained_embeddings)"
   ]
  },
  {
   "cell_type": "code",
   "execution_count": 34,
   "id": "29c6fdf4",
   "metadata": {},
   "outputs": [
    {
     "data": {
      "text/plain": [
       "0.7286725815604714"
      ]
     },
     "execution_count": 34,
     "metadata": {},
     "output_type": "execute_result"
    }
   ],
   "source": [
    "embedding_similarity(unsupervised_trained_embeddings, semi_supervised_trained_embeddings)"
   ]
  },
  {
   "cell_type": "code",
   "execution_count": 35,
   "id": "1ce55946",
   "metadata": {},
   "outputs": [
    {
     "data": {
      "text/plain": [
       "0.2861473017267189"
      ]
     },
     "execution_count": 35,
     "metadata": {},
     "output_type": "execute_result"
    }
   ],
   "source": [
    "embedding_similarity(supervised_trained_embeddings, semi_supervised_trained_embeddings)"
   ]
  }
 ],
 "metadata": {
  "kernelspec": {
   "display_name": "Python 3 (ipykernel)",
   "language": "python",
   "name": "python3"
  },
  "language_info": {
   "codemirror_mode": {
    "name": "ipython",
    "version": 3
   },
   "file_extension": ".py",
   "mimetype": "text/x-python",
   "name": "python",
   "nbconvert_exporter": "python",
   "pygments_lexer": "ipython3",
   "version": "3.8.0"
  }
 },
 "nbformat": 4,
 "nbformat_minor": 5
}
